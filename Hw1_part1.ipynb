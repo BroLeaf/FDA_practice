{
 "cells": [
  {
   "cell_type": "markdown",
   "metadata": {},
   "source": [
    "## 1. Top-10 Reviewer"
   ]
  },
  {
   "cell_type": "code",
   "execution_count": 1,
   "metadata": {
    "scrolled": false
   },
   "outputs": [],
   "source": [
    "import numpy as np\n",
    "import scipy as sp \n",
    "import pandas as pd\n",
    "import matplotlib.pyplot as plt\n",
    "\n",
    "# read data\n",
    "pd_data = pd.read_csv(\"./Reviews.csv\")\n",
    "pd_data = pd_data[:10000]"
   ]
  },
  {
   "cell_type": "code",
   "execution_count": 2,
   "metadata": {
    "scrolled": true
   },
   "outputs": [
    {
     "name": "stdout",
     "output_type": "stream",
     "text": [
      "UserId          ProfileName                  \n",
      "A10012K7DF3SBQ  Terri Yang                       3.0\n",
      "A1001TYW5FZYD9  Anne Thompson \"dreamsinger41\"    5.0\n",
      "A1008DPSP6KC9J  Lee F                            5.0\n",
      "A101C99CG8EFUH  Benjamin McGough                 3.0\n",
      "A102XKYZE9Q9L4  TjB \"cancer-free!\"               5.0\n",
      "Name: Score, dtype: float64\n",
      "UserId          ProfileName                  \n",
      "A10012K7DF3SBQ  Terri Yang                       1\n",
      "A1001TYW5FZYD9  Anne Thompson \"dreamsinger41\"    1\n",
      "A1008DPSP6KC9J  Lee F                            1\n",
      "A101C99CG8EFUH  Benjamin McGough                 1\n",
      "A102XKYZE9Q9L4  TjB \"cancer-free!\"               1\n",
      "dtype: int64\n"
     ]
    }
   ],
   "source": [
    "# group data with specific index\n",
    "pd_group_user = pd_data.groupby(['UserId', 'ProfileName'])\n",
    "pd_score_mean = pd_group_user['Score'].mean()\n",
    "pd_score = pd_group_user.size()\n",
    "\n",
    "# check data form\n",
    "print(pd_score_mean.head())\n",
    "print(pd_score.head())\n"
   ]
  },
  {
   "cell_type": "code",
   "execution_count": 3,
   "metadata": {},
   "outputs": [
    {
     "name": "stdout",
     "output_type": "stream",
     "text": [
      "                                                           Score count  \\\n",
      "UserId         ProfileName                                               \n",
      "A1Z54EM24Y40LL c2                                                   17   \n",
      "A2SZLNSI5KOQJT Carrie, \"Formerly &#34;Sister Carrie&#34;\"           10   \n",
      "A35R32TA60XD57 M. Torma                                              9   \n",
      "A281NPSIMI1C2R Rebecca of Amazon \"The Rebecca Review\"                8   \n",
      "A3OXHLG6DIBRW8 C. F. Hill \"CFH\"                                      7   \n",
      "A3NHUQ33CFH3VM Citizen John                                          7   \n",
      "A3PJZ8TU8FDQ1K Jared Castle                                          7   \n",
      "AQ6SHOW0VMZGF  K. Padgett \"familyof5\"                                6   \n",
      "A26NFIQ7KWI8Y7 kt rose                                               6   \n",
      "A10H24TDLK2VDP William Jens Jensen                                   6   \n",
      "\n",
      "                                                           Score mean  \n",
      "UserId         ProfileName                                             \n",
      "A1Z54EM24Y40LL c2                                            3.882353  \n",
      "A2SZLNSI5KOQJT Carrie, \"Formerly &#34;Sister Carrie&#34;\"    3.800000  \n",
      "A35R32TA60XD57 M. Torma                                      4.111111  \n",
      "A281NPSIMI1C2R Rebecca of Amazon \"The Rebecca Review\"        5.000000  \n",
      "A3OXHLG6DIBRW8 C. F. Hill \"CFH\"                              4.428571  \n",
      "A3NHUQ33CFH3VM Citizen John                                  3.142857  \n",
      "A3PJZ8TU8FDQ1K Jared Castle                                  4.714286  \n",
      "AQ6SHOW0VMZGF  K. Padgett \"familyof5\"                        2.666667  \n",
      "A26NFIQ7KWI8Y7 kt rose                                       2.666667  \n",
      "A10H24TDLK2VDP William Jens Jensen                           3.000000  \n"
     ]
    }
   ],
   "source": [
    "# create new dataset by inserting series\n",
    "pd_reviewer = pd.DataFrame(index=pd_score_mean.index)\n",
    "pd_reviewer.insert(0, 'Score count', pd_score)\n",
    "pd_reviewer.insert(1, 'Score mean', pd_score_mean)\n",
    "pd_reviewer = pd_reviewer.sort_values(by=['Score count'], ascending=False)\n",
    "print(pd_reviewer.head(10))"
   ]
  },
  {
   "cell_type": "markdown",
   "metadata": {},
   "source": [
    "## 2. Plot score distribution for the user with the most number of reviews"
   ]
  },
  {
   "cell_type": "code",
   "execution_count": 4,
   "metadata": {},
   "outputs": [
    {
     "data": {
      "text/plain": [
       "array([5, 5, 5, 3, 4, 4, 5, 2, 5, 3, 1, 3, 5, 5, 4, 3, 4])"
      ]
     },
     "execution_count": 4,
     "metadata": {},
     "output_type": "execute_result"
    }
   ],
   "source": [
    "# extract the most number of reviews\n",
    "pd_data[pd_data.ProfileName == 'c2']['Score'].values"
   ]
  },
  {
   "cell_type": "code",
   "execution_count": 5,
   "metadata": {},
   "outputs": [
    {
     "data": {
      "text/plain": [
       "<matplotlib.axes._subplots.AxesSubplot at 0x7f8135c1c710>"
      ]
     },
     "execution_count": 5,
     "metadata": {},
     "output_type": "execute_result"
    },
    {
     "data": {
      "image/png": "[encoded data removed]",
      "text/plain": [
       "<Figure size 432x288 with 1 Axes>"
      ]
     },
     "metadata": {
      "needs_background": "light"
     },
     "output_type": "display_data"
    }
   ],
   "source": [
    "bar = pd.Series(0, index=['1', '2', '3', '4', '5'])\n",
    "for i in range(0, pd_data[pd_data.ProfileName == 'c2']['Score'].size):\n",
    "    index = pd_data[pd_data.ProfileName == 'c2']['Score'].values[i]\n",
    "    bar.values[index-1]+=1\n",
    "bar.plot.bar(color=['blue', 'orange', 'green', 'red', 'purple'])"
   ]
  },
  {
   "cell_type": "markdown",
   "metadata": {},
   "source": [
    "## 3. Plot pandas Series DataFrame (Time->Date)"
   ]
  },
  {
   "cell_type": "code",
   "execution_count": 6,
   "metadata": {
    "scrolled": true
   },
   "outputs": [
    {
     "data": {
      "text/plain": [
       "Time\n",
       "2000       2\n",
       "2004      20\n",
       "2005      28\n",
       "2006     123\n",
       "2007     369\n",
       "2008     508\n",
       "2009    1193\n",
       "2010    1631\n",
       "2011    2890\n",
       "2012    3236\n",
       "dtype: int64"
      ]
     },
     "execution_count": 6,
     "metadata": {},
     "output_type": "execute_result"
    }
   ],
   "source": [
    "# need to group by Time, so must use dataframe to expression\n",
    "pd_time = pd.DataFrame(pd_data['Time'])\n",
    "\n",
    "# only need to count the year, so force change type frome float to int\n",
    "pd_time = (pd_time/60/60/24/365.25+1970).astype('int64')\n",
    "\n",
    "pd_time = pd_time.groupby(['Time'])\n",
    "pd_time.size()"
   ]
  },
  {
   "cell_type": "code",
   "execution_count": 7,
   "metadata": {},
   "outputs": [
    {
     "data": {
      "text/plain": [
       "<matplotlib.axes._subplots.AxesSubplot at 0x7f8135b0d828>"
      ]
     },
     "execution_count": 7,
     "metadata": {},
     "output_type": "execute_result"
    },
    {
     "data": {
      "image/png": "[encoded data removed]",
      "text/plain": [
       "<Figure size 432x288 with 1 Axes>"
      ]
     },
     "metadata": {
      "needs_background": "light"
     },
     "output_type": "display_data"
    }
   ],
   "source": [
    "# plot bar\n",
    "time_bar = pd_time.size().plot.bar()\n",
    "time_bar.set_xlabel(\"Reviewer year\")\n",
    "time_bar.set_ylabel(\"Review count\")\n",
    "time_bar.set_title('Review count by year')\n",
    "time_bar"
   ]
  },
  {
   "cell_type": "markdown",
   "metadata": {},
   "source": [
    "## 4. Plot HeatMap using seaborn"
   ]
  },
  {
   "cell_type": "code",
   "execution_count": 8,
   "metadata": {
    "scrolled": true
   },
   "outputs": [
    {
     "data": {
      "text/html": [
       "<div>\n",
       "<style scoped>\n",
       "    .dataframe tbody tr th:only-of-type {\n",
       "        vertical-align: middle;\n",
       "    }\n",
       "\n",
       "    .dataframe tbody tr th {\n",
       "        vertical-align: top;\n",
       "    }\n",
       "\n",
       "    .dataframe thead th {\n",
       "        text-align: right;\n",
       "    }\n",
       "</style>\n",
       "<table border=\"1\" class=\"dataframe\">\n",
       "  <thead>\n",
       "    <tr style=\"text-align: right;\">\n",
       "      <th></th>\n",
       "      <th>Id</th>\n",
       "      <th>HelpfulnessNumerator</th>\n",
       "      <th>HelpfulnessDenominator</th>\n",
       "      <th>Score</th>\n",
       "      <th>Time</th>\n",
       "    </tr>\n",
       "  </thead>\n",
       "  <tbody>\n",
       "    <tr>\n",
       "      <th>Id</th>\n",
       "      <td>1.000000</td>\n",
       "      <td>0.013141</td>\n",
       "      <td>0.010480</td>\n",
       "      <td>-0.022696</td>\n",
       "      <td>0.030299</td>\n",
       "    </tr>\n",
       "    <tr>\n",
       "      <th>HelpfulnessNumerator</th>\n",
       "      <td>0.013141</td>\n",
       "      <td>1.000000</td>\n",
       "      <td>0.969580</td>\n",
       "      <td>-0.024280</td>\n",
       "      <td>-0.178248</td>\n",
       "    </tr>\n",
       "    <tr>\n",
       "      <th>HelpfulnessDenominator</th>\n",
       "      <td>0.010480</td>\n",
       "      <td>0.969580</td>\n",
       "      <td>1.000000</td>\n",
       "      <td>-0.102559</td>\n",
       "      <td>-0.197157</td>\n",
       "    </tr>\n",
       "    <tr>\n",
       "      <th>Score</th>\n",
       "      <td>-0.022696</td>\n",
       "      <td>-0.024280</td>\n",
       "      <td>-0.102559</td>\n",
       "      <td>1.000000</td>\n",
       "      <td>-0.034358</td>\n",
       "    </tr>\n",
       "    <tr>\n",
       "      <th>Time</th>\n",
       "      <td>0.030299</td>\n",
       "      <td>-0.178248</td>\n",
       "      <td>-0.197157</td>\n",
       "      <td>-0.034358</td>\n",
       "      <td>1.000000</td>\n",
       "    </tr>\n",
       "  </tbody>\n",
       "</table>\n",
       "</div>"
      ],
      "text/plain": [
       "                              Id  HelpfulnessNumerator  \\\n",
       "Id                      1.000000              0.013141   \n",
       "HelpfulnessNumerator    0.013141              1.000000   \n",
       "HelpfulnessDenominator  0.010480              0.969580   \n",
       "Score                  -0.022696             -0.024280   \n",
       "Time                    0.030299             -0.178248   \n",
       "\n",
       "                        HelpfulnessDenominator     Score      Time  \n",
       "Id                                    0.010480 -0.022696  0.030299  \n",
       "HelpfulnessNumerator                  0.969580 -0.024280 -0.178248  \n",
       "HelpfulnessDenominator                1.000000 -0.102559 -0.197157  \n",
       "Score                                -0.102559  1.000000 -0.034358  \n",
       "Time                                 -0.197157 -0.034358  1.000000  "
      ]
     },
     "execution_count": 8,
     "metadata": {},
     "output_type": "execute_result"
    }
   ],
   "source": [
    "# extract data and correlation\n",
    "pd_feature = pd_data[['Id', 'HelpfulnessNumerator', 'HelpfulnessDenominator', 'Score', 'Time']]\n",
    "pd_feature.corr()"
   ]
  },
  {
   "cell_type": "code",
   "execution_count": 9,
   "metadata": {
    "scrolled": false
   },
   "outputs": [
    {
     "data": {
      "image/png": "[encoded data removed]",
      "text/plain": [
       "<Figure size 432x288 with 2 Axes>"
      ]
     },
     "metadata": {},
     "output_type": "display_data"
    }
   ],
   "source": [
    "import seaborn as sns\n",
    "sns.set()\n",
    "ax = sns.heatmap(pd_feature.corr(), annot=True)"
   ]
  },
  {
   "cell_type": "markdown",
   "metadata": {},
   "source": [
    "## 5. Helpful percent"
   ]
  },
  {
   "cell_type": "code",
   "execution_count": 10,
   "metadata": {},
   "outputs": [
    {
     "data": {
      "text/plain": [
       "(10000, 2)"
      ]
     },
     "execution_count": 10,
     "metadata": {},
     "output_type": "execute_result"
    }
   ],
   "source": [
    "# filter the some case of data, but all the dataset change nothing\n",
    "pd_filter = pd_data[['HelpfulnessNumerator', 'HelpfulnessDenominator']]\n",
    "fil = pd_filter['HelpfulnessNumerator'] <= pd_filter['HelpfulnessDenominator']\n",
    "pd_filter[fil].shape"
   ]
  },
  {
   "cell_type": "code",
   "execution_count": 11,
   "metadata": {},
   "outputs": [
    {
     "data": {
      "text/plain": [
       "0       1.000000\n",
       "1      -1.000000\n",
       "2       1.000000\n",
       "3       1.000000\n",
       "4      -1.000000\n",
       "5      -1.000000\n",
       "6      -1.000000\n",
       "7      -1.000000\n",
       "8       1.000000\n",
       "9      -1.000000\n",
       "10      1.000000\n",
       "11      1.000000\n",
       "12      1.000000\n",
       "13      1.000000\n",
       "14      0.800000\n",
       "15      0.800000\n",
       "16     -1.000000\n",
       "17     -1.000000\n",
       "18     -1.000000\n",
       "19     -1.000000\n",
       "20     -1.000000\n",
       "21     -1.000000\n",
       "22     -1.000000\n",
       "23     -1.000000\n",
       "24     -1.000000\n",
       "25     -1.000000\n",
       "26      0.000000\n",
       "27      0.000000\n",
       "28     -1.000000\n",
       "29      1.000000\n",
       "          ...   \n",
       "9970    0.500000\n",
       "9971    0.615385\n",
       "9972    0.000000\n",
       "9973    0.000000\n",
       "9974    0.000000\n",
       "9975    0.000000\n",
       "9976    0.200000\n",
       "9977    0.093750\n",
       "9978   -1.000000\n",
       "9979   -1.000000\n",
       "9980    1.000000\n",
       "9981   -1.000000\n",
       "9982   -1.000000\n",
       "9983   -1.000000\n",
       "9984   -1.000000\n",
       "9985    0.791667\n",
       "9986    0.750000\n",
       "9987    1.000000\n",
       "9988    1.000000\n",
       "9989    0.800000\n",
       "9990    0.750000\n",
       "9991    0.705882\n",
       "9992    1.000000\n",
       "9993    1.000000\n",
       "9994    0.750000\n",
       "9995    0.666667\n",
       "9996    0.666667\n",
       "9997   -1.000000\n",
       "9998    0.500000\n",
       "9999    0.000000\n",
       "Length: 10000, dtype: float64"
      ]
     },
     "execution_count": 11,
     "metadata": {},
     "output_type": "execute_result"
    }
   ],
   "source": [
    "# Get the ratio, and replace nan with -1\n",
    "pd_filter_ratio = pd_filter['HelpfulnessNumerator']/pd_filter['HelpfulnessDenominator']\n",
    "pd_filter_ratio.fillna(-1, inplace = True)\n",
    "pd_filter_ratio"
   ]
  },
  {
   "cell_type": "code",
   "execution_count": 12,
   "metadata": {},
   "outputs": [
    {
     "data": {
      "text/plain": [
       "<matplotlib.axes._subplots.AxesSubplot at 0x7f811c927588>"
      ]
     },
     "execution_count": 12,
     "metadata": {},
     "output_type": "execute_result"
    },
    {
     "data": {
      "image/png": "[encoded data removed]",
      "text/plain": [
       "<Figure size 432x288 with 1 Axes>"
      ]
     },
     "metadata": {},
     "output_type": "display_data"
    }
   ],
   "source": [
    "pd_filter_ratio.hist()"
   ]
  },
  {
   "cell_type": "code",
   "execution_count": null,
   "metadata": {},
   "outputs": [],
   "source": []
  }
 ],
 "metadata": {
  "kernelspec": {
   "display_name": "Python 3",
   "language": "python",
   "name": "python3"
  },
  "language_info": {
   "codemirror_mode": {
    "name": "ipython",
    "version": 3
   },
   "file_extension": ".py",
   "mimetype": "text/x-python",
   "name": "python",
   "nbconvert_exporter": "python",
   "pygments_lexer": "ipython3",
   "version": "3.6.7"
  }
 },
 "nbformat": 4,
 "nbformat_minor": 2
}
